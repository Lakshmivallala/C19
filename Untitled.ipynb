{
 "cells": [
  {
   "cell_type": "code",
   "execution_count": 8,
   "metadata": {},
   "outputs": [],
   "source": [
    "import numpy as np #manupulate arrays\n",
    "from keras.preprocessing import image\n",
    "from keras.preprocessing.image import ImageDataGenerator #tries to generate multiple images out of 1\n",
    "from keras.models import Sequential #linear stack of layers\n",
    "from keras.layers import Conv2D,MaxPooling2D\n",
    "from keras.layers import Dense, Activation, Dropout, Flatten\n",
    "from keras import backend as K\n",
    "#activationfn(when to activate to 1,-1,0),dropout-helps nn not overfit,pooling-reduce size of data\n",
    "#flatten- 2d image to 1 image, dense- hidden layer,backend- which layer is coming first?"
   ]
  },
  {
   "cell_type": "code",
   "execution_count": 9,
   "metadata": {},
   "outputs": [],
   "source": [
    "img_width,img_height=150,150"
   ]
  },
  {
   "cell_type": "code",
   "execution_count": null,
   "metadata": {},
   "outputs": [],
   "source": [
    "train_data="
   ]
  }
 ],
 "metadata": {
  "kernelspec": {
   "display_name": "Python 3",
   "language": "python",
   "name": "python3"
  },
  "language_info": {
   "codemirror_mode": {
    "name": "ipython",
    "version": 3
   },
   "file_extension": ".py",
   "mimetype": "text/x-python",
   "name": "python",
   "nbconvert_exporter": "python",
   "pygments_lexer": "ipython3",
   "version": "3.7.3"
  }
 },
 "nbformat": 4,
 "nbformat_minor": 4
}
